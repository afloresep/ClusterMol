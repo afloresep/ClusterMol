{
 "cells": [
  {
   "cell_type": "markdown",
   "id": "51aa4f66",
   "metadata": {},
   "source": [
    "# Functions, imports etc. Just run without changes"
   ]
  },
  {
   "cell_type": "code",
   "execution_count": null,
   "id": "1a082d5b",
   "metadata": {},
   "outputs": [],
   "source": [
    "from rdkit import Chem\n",
    "from rdkit.SimDivFilters import rdSimDivPickers  \n",
    "from tqdm import tqdm \n",
    "from rdkit.Chem import AllChem\n",
    "import numpy as np\n",
    "import umap.umap_ as umap\n",
    "from rdkit import RDLogger                                                                                                                                                               \n",
    "RDLogger.DisableLog('rdApp.*')\n",
    "import pandas as pd\n",
    "import matplotlib.pyplot as plt\n",
    "import re\n",
    "import numpy as np\n",
    "from rdkit import Chem\n",
    "from rdkit.Chem.MolStandardize import rdMolStandardize\n",
    "from rdkit.Chem.SaltRemover import SaltRemover\n",
    "import pandas as pd\n",
    "from tqdm import tqdm as tqdm\n",
    "from rdkit import RDLogger\n",
    "lg = RDLogger.logger()\n",
    "lg.setLevel(RDLogger.CRITICAL)\n",
    "\n",
    "seed = 42\n",
    "\n",
    "def santize_molecules(paths:list):\n",
    "    \"\"\"Sanitize molecules \n",
    "\n",
    "    Args:\n",
    "        paths (list[str]): List with the paths to .sdf files\n",
    "        names (list[str]): Custom name for the molecules. It will be named after the file it comes from. Default will have the same name as the file\n",
    "\n",
    "    Returns:\n",
    "        dataframe (pd.DataFrame): Dataframe with sanitize and named molecules\n",
    "    \"\"\"\n",
    "    # prepare santizers \n",
    "    salt_remover = SaltRemover() \n",
    "    uncharger    = rdMolStandardize.Uncharger()\n",
    "    clean_data = []\n",
    "    for path in paths:\n",
    "        supplier = Chem.SDMolSupplier(path, sanitize=True, removeHs=False)\n",
    "        for mol in tqdm(supplier, desc='Cleaning'):\n",
    "            if mol is None:\n",
    "                continue\n",
    "            try:\n",
    "                # sanitize\n",
    "                Chem.SanitizeMol(mol, catchErrors=True)\n",
    "                # rm salt \n",
    "                mol = salt_remover.StripMol(mol)\n",
    "                # Neutralize\n",
    "                mol = uncharger.uncharge(mol, )\n",
    "                # Sanitize again\n",
    "                Chem.SanitizeMol(mol)\n",
    "                # canonical smile\n",
    "                smi = Chem.MolToSmiles(mol, isomericSmiles=True)\n",
    "                # Get name if exists\n",
    "                prop_dict = mol.GetPropsAsDict()\n",
    "                name = prop_dict.get(\"Compound_ID\")\n",
    "                db = re.split(r'\\d+', name)[0]\n",
    "                clean_data.append((smi, name, db))\n",
    "                if j==10000: break\n",
    "            except Exception:\n",
    "                # discard exceptions\n",
    "                continue\n",
    "\n",
    "    df= pd.DataFrame(clean_data, columns=[\"SMILES\", \"Name\", \"Database\"])\n",
    "    print(df.head())\n",
    "    print(len(df))\n",
    "    return df\n",
    "\n",
    "\n",
    "def _mols_and_fps(df, smiles_col=\"SMILES\", radius=2, nBits=2048) -> pd.DataFrame:\n",
    "    \"\"\"Convert a SMILES column to RDKit mols + Morgan/ECFP4 fingerprints.\n",
    "            ) -> (rdkit.mol, fingerprints, idx)\n",
    "\n",
    "    Args:\n",
    "        df(pd.Dataframe): Dataframe containg  at least the SMILES strings \n",
    "        smiles_col(str): Name of the column containing the smiles strings\n",
    "        radius(int): Radius for ECFP fingerprints. Defaults to 2\n",
    "        nBits(int): Size of the ECFP fingerprint. Default to 2048\n",
    "\n",
    "    Returns:\n",
    "        dataframe (pd.Dataframe): Dataframe with the labels column added\n",
    "    \"\"\" \n",
    "    fps = []\n",
    "    for i, smi in tqdm(enumerate(df[smiles_col]), desc='Calculating fingerprints', total=len(df)):\n",
    "        try:\n",
    "            m = Chem.MolFromSmiles(smi)\n",
    "        except Exception as e:\n",
    "            print(f'An exception ocurred with {smi}: {e}')\n",
    "        if m:\n",
    "            fps.append(AllChem.GetMorganFingerprintAsBitVect(m, radius, nBits))\n",
    "    return fps\n",
    "\n",
    "\n",
    "def picker(n_pick:int, df:pd.DataFrame, smiles_col:str=\"SMILES\", radius:int=2, nBits:int=2048, plot:bool=True, seed:int=42):\n",
    "    \"\"\"Select N molecules from a dataset using MaxMinPicker selection. Optinally visualize through TMAP\n",
    "\n",
    "    Args:\n",
    "        n (int): Number of molecules to select from the dataset\n",
    "        df (pd.DataFrame): _description_\n",
    "        smiles_col (str, optional): _description_. Defaults to \"SMILES\".\n",
    "        radius (int, optional): _description_. Defaults to 2.\n",
    "        nBits (int, optional): _description_. Defaults to 2048.\n",
    "        plot (bool, optional): _description_. Defaults to True.\n",
    "        seed (int, optional): _description_. Defaults to 42.\n",
    "    \"\"\"\n",
    "\n",
    "    assert n_pick < len(df), f\"The number of molecules to select {n_pick} cannot be larger than the dataframe {len(df)}\"\n",
    "    fps= _mols_and_fps(df=df, smiles_col=smiles_col, radius=radius, nBits=nBits) \n",
    "    picker = rdSimDivPickers.MaxMinPicker()               \n",
    "    picks = picker.LazyBitVectorPick(fps,           # list[ExplicitBitVect] (fingerprints)\n",
    "                                    len(fps),      # pool size\n",
    "                                    n_pick,        # how many to pick\n",
    "                                    [],            # no initial seed set\n",
    "                                    seed)            # RNG seed\n",
    "\n",
    "\n",
    "    return df.iloc[picks], fps, picks\n",
    "\n"
   ]
  },
  {
   "cell_type": "markdown",
   "id": "2f178cde",
   "metadata": {},
   "source": [
    "# Sanitize molecules"
   ]
  },
  {
   "cell_type": "code",
   "execution_count": null,
   "id": "2640345e",
   "metadata": {},
   "outputs": [
    {
     "name": "stderr",
     "output_type": "stream",
     "text": [
      "Cleaning: 60698it [00:30, 2011.86it/s]\n",
      "Cleaning: 70719it [00:37, 1892.73it/s]"
     ]
    },
    {
     "name": "stdout",
     "output_type": "stream",
     "text": [
      "Empty DataFrame\n",
      "Columns: [SMILES, Name, Database]\n",
      "Index: []\n",
      "0\n"
     ]
    },
    {
     "name": "stderr",
     "output_type": "stream",
     "text": [
      "\n"
     ]
    }
   ],
   "source": [
    "paths = ['/Users/afloresep/work/ClusterMol/notebook/Welab_Chemical_library_fixed.sdf','/Users/afloresep/work/ClusterMol/notebook/Innopharm_chemical_library_fixed.sdf']\n",
    "df = santize_molecules(paths)\n",
    "\n",
    "## Optional: Save the dataframe for future runs\n",
    "# df.to_csv('sanitized_molecules.csv', index=False) \n",
    "\n",
    "## If saved dataframe before, read:\n",
    "#df = pd.read_csv('sanitized_molecules.csv')"
   ]
  },
  {
   "cell_type": "code",
   "execution_count": 12,
   "id": "363be8ea",
   "metadata": {},
   "outputs": [
    {
     "data": {
      "text/html": [
       "<div>\n",
       "<style scoped>\n",
       "    .dataframe tbody tr th:only-of-type {\n",
       "        vertical-align: middle;\n",
       "    }\n",
       "\n",
       "    .dataframe tbody tr th {\n",
       "        vertical-align: top;\n",
       "    }\n",
       "\n",
       "    .dataframe thead th {\n",
       "        text-align: right;\n",
       "    }\n",
       "</style>\n",
       "<table border=\"1\" class=\"dataframe\">\n",
       "  <thead>\n",
       "    <tr style=\"text-align: right;\">\n",
       "      <th></th>\n",
       "      <th>SMILES</th>\n",
       "      <th>Name</th>\n",
       "      <th>Database</th>\n",
       "    </tr>\n",
       "  </thead>\n",
       "  <tbody>\n",
       "  </tbody>\n",
       "</table>\n",
       "</div>"
      ],
      "text/plain": [
       "Empty DataFrame\n",
       "Columns: [SMILES, Name, Database]\n",
       "Index: []"
      ]
     },
     "execution_count": 12,
     "metadata": {},
     "output_type": "execute_result"
    }
   ],
   "source": [
    "df"
   ]
  },
  {
   "cell_type": "markdown",
   "id": "1904f514",
   "metadata": {},
   "source": [
    "# Picker\n",
    "### Params:\n",
    "\n",
    "- `n_pick`: number of molecules to select \n",
    "- `df`: Dataframe with sanitized molecules \n",
    "- `smiles_col`: Name of the column in `df` containing the SMILES strings\n",
    "- `radius`: Radius for ECFP\n",
    "- `nBits`: nBits for ECFP \n",
    "\n",
    "\n"
   ]
  },
  {
   "cell_type": "code",
   "execution_count": 11,
   "id": "04736f7c",
   "metadata": {},
   "outputs": [
    {
     "ename": "AssertionError",
     "evalue": "The number of molecules to select 5000 cannot be larger than the dataframe 0",
     "output_type": "error",
     "traceback": [
      "\u001b[31m---------------------------------------------------------------------------\u001b[39m",
      "\u001b[31mAssertionError\u001b[39m                            Traceback (most recent call last)",
      "\u001b[36mCell\u001b[39m\u001b[36m \u001b[39m\u001b[32mIn[11]\u001b[39m\u001b[32m, line 1\u001b[39m\n\u001b[32m----> \u001b[39m\u001b[32m1\u001b[39m df_picked, fps, picks = \u001b[43mpicker\u001b[49m\u001b[43m(\u001b[49m\u001b[43mn_pick\u001b[49m\u001b[43m=\u001b[49m\u001b[32;43m5000\u001b[39;49m\u001b[43m,\u001b[49m\u001b[43m \u001b[49m\u001b[43mdf\u001b[49m\u001b[43m=\u001b[49m\u001b[43mdf\u001b[49m\u001b[43m,\u001b[49m\u001b[43m \u001b[49m\u001b[43msmiles_col\u001b[49m\u001b[43m=\u001b[49m\u001b[33;43m\"\u001b[39;49m\u001b[33;43mSMILES\u001b[39;49m\u001b[33;43m\"\u001b[39;49m\u001b[43m,\u001b[49m\u001b[43m \u001b[49m\u001b[43mradius\u001b[49m\u001b[43m=\u001b[49m\u001b[32;43m2\u001b[39;49m\u001b[43m,\u001b[49m\u001b[43m \u001b[49m\u001b[43mnBits\u001b[49m\u001b[43m=\u001b[49m\u001b[32;43m2048\u001b[39;49m\u001b[43m,\u001b[49m\u001b[43m \u001b[49m\u001b[43mplot\u001b[49m\u001b[43m=\u001b[49m\u001b[38;5;28;43;01mTrue\u001b[39;49;00m\u001b[43m,\u001b[49m\u001b[43m \u001b[49m\u001b[43mseed\u001b[49m\u001b[43m=\u001b[49m\u001b[32;43m42\u001b[39;49m\u001b[43m)\u001b[49m\n\u001b[32m      2\u001b[39m \u001b[38;5;66;03m## Optional: Save dataframe with picked molecules\u001b[39;00m\n\u001b[32m      3\u001b[39m \u001b[38;5;66;03m# df_picked.to_csv('selection.csv', index=False)\u001b[39;00m\n",
      "\u001b[36mCell\u001b[39m\u001b[36m \u001b[39m\u001b[32mIn[9]\u001b[39m\u001b[32m, line 105\u001b[39m, in \u001b[36mpicker\u001b[39m\u001b[34m(n_pick, df, smiles_col, radius, nBits, plot, seed)\u001b[39m\n\u001b[32m     92\u001b[39m \u001b[38;5;28;01mdef\u001b[39;00m\u001b[38;5;250m \u001b[39m\u001b[34mpicker\u001b[39m(n_pick:\u001b[38;5;28mint\u001b[39m, df:pd.DataFrame, smiles_col:\u001b[38;5;28mstr\u001b[39m=\u001b[33m\"\u001b[39m\u001b[33mSMILES\u001b[39m\u001b[33m\"\u001b[39m, radius:\u001b[38;5;28mint\u001b[39m=\u001b[32m2\u001b[39m, nBits:\u001b[38;5;28mint\u001b[39m=\u001b[32m2048\u001b[39m, plot:\u001b[38;5;28mbool\u001b[39m=\u001b[38;5;28;01mTrue\u001b[39;00m, seed:\u001b[38;5;28mint\u001b[39m=\u001b[32m42\u001b[39m):\n\u001b[32m     93\u001b[39m \u001b[38;5;250m    \u001b[39m\u001b[33;03m\"\"\"Select N molecules from a dataset using MaxMinPicker selection. Optinally visualize through TMAP\u001b[39;00m\n\u001b[32m     94\u001b[39m \n\u001b[32m     95\u001b[39m \u001b[33;03m    Args:\u001b[39;00m\n\u001b[32m   (...)\u001b[39m\u001b[32m    102\u001b[39m \u001b[33;03m        seed (int, optional): _description_. Defaults to 42.\u001b[39;00m\n\u001b[32m    103\u001b[39m \u001b[33;03m    \"\"\"\u001b[39;00m\n\u001b[32m--> \u001b[39m\u001b[32m105\u001b[39m     \u001b[38;5;28;01massert\u001b[39;00m n_pick < \u001b[38;5;28mlen\u001b[39m(df), \u001b[33mf\u001b[39m\u001b[33m\"\u001b[39m\u001b[33mThe number of molecules to select \u001b[39m\u001b[38;5;132;01m{\u001b[39;00mn_pick\u001b[38;5;132;01m}\u001b[39;00m\u001b[33m cannot be larger than the dataframe \u001b[39m\u001b[38;5;132;01m{\u001b[39;00m\u001b[38;5;28mlen\u001b[39m(df)\u001b[38;5;132;01m}\u001b[39;00m\u001b[33m\"\u001b[39m\n\u001b[32m    106\u001b[39m     fps= _mols_and_fps(df=df, smiles_col=smiles_col, radius=radius, nBits=nBits) \n\u001b[32m    107\u001b[39m     picker = rdSimDivPickers.MaxMinPicker()               \n",
      "\u001b[31mAssertionError\u001b[39m: The number of molecules to select 5000 cannot be larger than the dataframe 0"
     ]
    }
   ],
   "source": [
    "df_picked, fps, picks = picker(n_pick=5000, df=df, smiles_col=\"SMILES\", radius=2, nBits=2048, plot=True, seed=42)\n",
    "## Optional: Save dataframe with picked molecules\n",
    "# df_picked.to_csv('selection.csv', index=False)"
   ]
  },
  {
   "cell_type": "markdown",
   "id": "68ff6939",
   "metadata": {},
   "source": [
    "## Compute UMAP"
   ]
  },
  {
   "cell_type": "code",
   "execution_count": null,
   "id": "fe97cf05",
   "metadata": {},
   "outputs": [],
   "source": [
    "# ################ Leave as is ###############\n",
    "#convert ot binary again \n",
    "arr = np.asarray([np.frombuffer(fp.ToBitString().encode(), 'S1').astype(np.int8) for fp in fps])\n",
    "reducer = umap.UMAP(n_neighbors=15,min_dist=0.1, metric='jaccard', random_state=seed)\n",
    "coords = reducer.fit_transform(arr)     \n",
    "mask = np.zeros(len(fps), dtype=bool)\n",
    "mask[picks] = True          # True for the chosen molecules\n"
   ]
  },
  {
   "cell_type": "code",
   "execution_count": null,
   "id": "7ab3df49",
   "metadata": {},
   "outputs": [],
   "source": [
    "# # Change if you want\n",
    "# #####################################################\n",
    "figsize:tuple = (12, 12)\n",
    "dpi:int = 110\n",
    "unpicked_size:int= 10\n",
    "unpicked_color:str='blue'\n",
    "unpicked_alpha:float=0.7\n",
    "picked_size:int=12\n",
    "picked_color:str='red'\n",
    "picked_alpha:float=0.9\n",
    "# #####################################################\n",
    "\n",
    "db = df['Database'].values\n",
    "picked_db1   = mask  & (db == 'WLB')\n",
    "picked_db2   = mask  & (db == 'CBG')\n",
    "unpicked_db1 = ~mask & (db == 'WLB')\n",
    "unpicked_db2 = ~mask & (db == 'CBG')\n",
    "\n",
    "# plot\n",
    "plt.figure(figsize=(15, 15))\n",
    "h4 = plt.scatter(coords[unpicked_db2, 0], coords[unpicked_db2, 1],\n",
    "                 s=unpicked_size, c='navy',      alpha=unpicked_alpha, label='Unpicked GB',  linewidths=0)\n",
    "h3 = plt.scatter(coords[unpicked_db1, 0], coords[unpicked_db1, 1],\n",
    "                 s=unpicked_size, c='lightblue', alpha=unpicked_alpha, label='Unpicked WLB', linewidths=0)\n",
    "\n",
    "h1 = plt.scatter(coords[picked_db1, 0],   coords[picked_db1, 1],\n",
    "                 s=picked_size,   c='red',     alpha=picked_alpha,   label='Picked WLB',   linewidths=0)\n",
    "h2 = plt.scatter(coords[picked_db2, 0],   coords[picked_db2, 1],\n",
    "                 s=picked_size,   c='orange',  alpha=picked_alpha,   label='Picked GB',    linewidths=0)\n",
    "\n",
    "plt.legend(scatterpoints=1, fontsize='small', frameon=True, title='Status & Source')\n",
    "plt.title(f'UMAP projection of {len(df)} compounds\\nColored by pick-status × database')\n",
    "plt.axis('off')\n",
    "plt.tight_layout()\n",
    "plt.show()\n",
    "# #############################################"
   ]
  }
 ],
 "metadata": {
  "kernelspec": {
   "display_name": "ClusterMol",
   "language": "python",
   "name": "python3"
  },
  "language_info": {
   "codemirror_mode": {
    "name": "ipython",
    "version": 3
   },
   "file_extension": ".py",
   "mimetype": "text/x-python",
   "name": "python",
   "nbconvert_exporter": "python",
   "pygments_lexer": "ipython3",
   "version": "3.13.3"
  }
 },
 "nbformat": 4,
 "nbformat_minor": 5
}
